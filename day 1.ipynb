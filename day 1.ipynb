{
 "cells": [
  {
   "cell_type": "code",
   "execution_count": 1,
   "id": "cc91bcd2",
   "metadata": {},
   "outputs": [
    {
     "data": {
      "text/plain": [
       "3"
      ]
     },
     "execution_count": 1,
     "metadata": {},
     "output_type": "execute_result"
    }
   ],
   "source": [
    "1+2"
   ]
  },
  {
   "cell_type": "code",
   "execution_count": 70,
   "id": "71dbecaf",
   "metadata": {},
   "outputs": [],
   "source": [
    "a=[1,1,2,3,3,4,4,4,5]\n",
    "b=[2,2,2,3,3,4,5,6,7]"
   ]
  },
  {
   "cell_type": "code",
   "execution_count": 71,
   "id": "3b4f5aa8",
   "metadata": {},
   "outputs": [],
   "source": [
    "l=[]\n",
    "for i in a:\n",
    "    for j in b:\n",
    "        if i==j:\n",
    "            l.append(i)\n",
    "s=set(l)\n",
    "m=[]\n",
    "for c in s:\n",
    "    c1=a.count(c)\n",
    "    c2=b.count(c)\n",
    "    if c2<c1:\n",
    "        for k in range(0,c2):\n",
    "            m.append(c)\n",
    "    else:\n",
    "        for k in range(0,c1): \n",
    "            m.append(c) "
   ]
  },
  {
   "cell_type": "code",
   "execution_count": 72,
   "id": "b11dad5d",
   "metadata": {},
   "outputs": [
    {
     "data": {
      "text/plain": [
       "[2, 3, 3, 4, 5]"
      ]
     },
     "execution_count": 72,
     "metadata": {},
     "output_type": "execute_result"
    }
   ],
   "source": [
    "m"
   ]
  },
  {
   "cell_type": "code",
   "execution_count": 90,
   "id": "62545f57",
   "metadata": {},
   "outputs": [],
   "source": [
    "x=[1,1,2,3,3,3,4,4,4,5]\n",
    "y=[2,2,2,3,3,3,4,5,6,7]"
   ]
  },
  {
   "cell_type": "code",
   "execution_count": 91,
   "id": "d07c8c71",
   "metadata": {},
   "outputs": [],
   "source": [
    "w=0\n",
    "q=0"
   ]
  },
  {
   "cell_type": "code",
   "execution_count": 92,
   "id": "0d0fc19c",
   "metadata": {},
   "outputs": [],
   "source": [
    "o=[]\n",
    "while(w<len(x) and q<len(y)):\n",
    "    if(x[w]>y[q]):\n",
    "        w=w+1\n",
    "    elif (x[w]<y[q]):\n",
    "        q=q+1\n",
    "    else:\n",
    "        o.append(x[w])\n",
    "        w=w+1\n",
    "        q=q+1\n",
    "        print(\"hi\")"
   ]
  },
  {
   "cell_type": "code",
   "execution_count": 93,
   "id": "78b916a1",
   "metadata": {},
   "outputs": [
    {
     "data": {
      "text/plain": [
       "[]"
      ]
     },
     "execution_count": 93,
     "metadata": {},
     "output_type": "execute_result"
    }
   ],
   "source": [
    "o"
   ]
  },
  {
   "cell_type": "code",
   "execution_count": 109,
   "id": "c8e8185b",
   "metadata": {},
   "outputs": [],
   "source": [
    "list1=[3,-1,5,-100,4,2]\n",
    "maxL=[]\n",
    "for i in range(0,len(list1)):\n",
    "    summ=0\n",
    "    for j in range(i,len(list1)):\n",
    "        summ=summ+ list1[j]\n",
    "        maxL.append(summ)"
   ]
  },
  {
   "cell_type": "code",
   "execution_count": 110,
   "id": "0d990a0c",
   "metadata": {},
   "outputs": [
    {
     "data": {
      "text/plain": [
       "7"
      ]
     },
     "execution_count": 110,
     "metadata": {},
     "output_type": "execute_result"
    }
   ],
   "source": [
    "max((maxL))"
   ]
  },
  {
   "cell_type": "markdown",
   "id": "ebaac636",
   "metadata": {},
   "source": [
    "# Kadane's Algorithm"
   ]
  },
  {
   "cell_type": "code",
   "execution_count": 115,
   "id": "43668cee",
   "metadata": {},
   "outputs": [],
   "source": [
    "summ=0\n",
    "maxx=-9999\n",
    "for i in range(0,len(list1)):\n",
    "    summ=summ+list1[i]\n",
    "    if summ>maxx:\n",
    "        maxx=summ\n",
    "    if summ<0:\n",
    "        summ=0"
   ]
  },
  {
   "cell_type": "code",
   "execution_count": 116,
   "id": "583bd79a",
   "metadata": {},
   "outputs": [
    {
     "data": {
      "text/plain": [
       "7"
      ]
     },
     "execution_count": 116,
     "metadata": {},
     "output_type": "execute_result"
    }
   ],
   "source": [
    "maxx"
   ]
  },
  {
   "cell_type": "markdown",
   "id": "dac4e255",
   "metadata": {},
   "source": [
    "# Leetcode maximum sum circular subarray  Q no. 918"
   ]
  },
  {
   "cell_type": "code",
   "execution_count": 128,
   "id": "4a8ae4bd",
   "metadata": {},
   "outputs": [],
   "source": [
    "list2=[5,-3,5]\n",
    "list3= list2+list2\n",
    "summ=0\n",
    "maxx=-9999\n",
    "for i in range(0,len(list3)-1):\n",
    "    summ=summ+list3[i]\n",
    "    if summ>maxx:\n",
    "        maxx=summ\n",
    "    if summ<0:\n",
    "        summ=0"
   ]
  },
  {
   "cell_type": "code",
   "execution_count": 129,
   "id": "b3bff74f",
   "metadata": {},
   "outputs": [
    {
     "data": {
      "text/plain": [
       "12"
      ]
     },
     "execution_count": 129,
     "metadata": {},
     "output_type": "execute_result"
    }
   ],
   "source": [
    "maxx"
   ]
  },
  {
   "cell_type": "code",
   "execution_count": 130,
   "id": "30b77aee",
   "metadata": {},
   "outputs": [
    {
     "name": "stdout",
     "output_type": "stream",
     "text": [
      "13\n"
     ]
    }
   ],
   "source": [
    "# Maximum Sum Circular Array\n",
    "sumA=0\n",
    "maxx=-9999\n",
    "for i in range(0,len(list1)):\n",
    "    sumA=sumA+list1[i]\n",
    "    if sumA>maxx:\n",
    "        maxx=sumA\n",
    "    if sumA<0:\n",
    "        sumA=0\n",
    "sumB=0\n",
    "minn=list1[0]\n",
    "for i in range(0,len(list1)):\n",
    "    sumB=sumB+list1[i]\n",
    "    if sumB<minn:\n",
    "        minn=sumB\n",
    "    if sumB>0:\n",
    "        sumB=0\n",
    "sum3=0\n",
    "for i in list1:\n",
    "    sum3=sum3+i\n",
    "if sumB==sum3:\n",
    "    print(maxx)\n",
    "else:\n",
    "    print(max(maxx,sum3-minn))"
   ]
  },
  {
   "cell_type": "markdown",
   "id": "57224966",
   "metadata": {},
   "source": [
    "# Palindrome"
   ]
  },
  {
   "cell_type": "code",
   "execution_count": 141,
   "id": "52186ed4",
   "metadata": {},
   "outputs": [
    {
     "name": "stdout",
     "output_type": "stream",
     "text": [
      "mom\n"
     ]
    }
   ],
   "source": [
    "x=str(input())\n"
   ]
  },
  {
   "cell_type": "code",
   "execution_count": 150,
   "id": "275520f7",
   "metadata": {},
   "outputs": [
    {
     "name": "stdout",
     "output_type": "stream",
     "text": [
      "2\n"
     ]
    }
   ],
   "source": [
    "x[0]\n",
    "j=len(x)-1\n",
    "print(j)"
   ]
  },
  {
   "cell_type": "code",
   "execution_count": 152,
   "id": "15dfc063",
   "metadata": {},
   "outputs": [
    {
     "name": "stdout",
     "output_type": "stream",
     "text": [
      "yes\n"
     ]
    }
   ],
   "source": [
    "i=0\n",
    "j=len(x)-1\n",
    "count=0\n",
    "while(i<=j):\n",
    "    if x[i]==x[j]:\n",
    "        i=i+1\n",
    "        j=j-1\n",
    "        count=count+1\n",
    "        continue\n",
    "    else:\n",
    "        print(\"no\")\n",
    "        break\n",
    "if count==len(x)-1 :\n",
    "    print(\"yes\")"
   ]
  },
  {
   "cell_type": "markdown",
   "id": "bbdb8d44",
   "metadata": {},
   "source": [
    "# Palindromic Substring 647 leetcode not done"
   ]
  },
  {
   "cell_type": "code",
   "execution_count": 153,
   "id": "f555f8bb",
   "metadata": {},
   "outputs": [],
   "source": [
    "def isPal(x:str):\n",
    "    i=0\n",
    "    j=len(x)-1\n",
    "    count=0\n",
    "    while(i<=j):\n",
    "        if x[i]==x[j]:\n",
    "            i=i+1\n",
    "            j=j-1\n",
    "            count=count+1\n",
    "            continue\n",
    "        else:\n",
    "            return 0\n",
    "            break\n",
    "    if count==len(x)-1 :\n",
    "        return 1"
   ]
  },
  {
   "cell_type": "code",
   "execution_count": 157,
   "id": "763e0852",
   "metadata": {},
   "outputs": [
    {
     "name": "stdout",
     "output_type": "stream",
     "text": [
      "None\n",
      "None\n",
      "no\n",
      "None\n"
     ]
    }
   ],
   "source": [
    "summ=0\n",
    "for i in range(0,len(x)):\n",
    "    count=isPal(x[:i])\n",
    "    print(count)"
   ]
  },
  {
   "cell_type": "code",
   "execution_count": null,
   "id": "f0e3b38e",
   "metadata": {},
   "outputs": [],
   "source": []
  }
 ],
 "metadata": {
  "kernelspec": {
   "display_name": "Python 3 (ipykernel)",
   "language": "python",
   "name": "python3"
  },
  "language_info": {
   "codemirror_mode": {
    "name": "ipython",
    "version": 3
   },
   "file_extension": ".py",
   "mimetype": "text/x-python",
   "name": "python",
   "nbconvert_exporter": "python",
   "pygments_lexer": "ipython3",
   "version": "3.10.9"
  }
 },
 "nbformat": 4,
 "nbformat_minor": 5
}
