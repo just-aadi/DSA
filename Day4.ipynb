{
 "cells": [
  {
   "cell_type": "code",
   "execution_count": 1,
   "id": "f831982b",
   "metadata": {},
   "outputs": [
    {
     "name": "stdout",
     "output_type": "stream",
     "text": [
      "11111\n",
      "1112\n",
      "1121\n",
      "113\n",
      "1211\n",
      "122\n",
      "131\n",
      "2111\n",
      "212\n",
      "221\n",
      "23\n",
      "311\n",
      "32\n"
     ]
    }
   ],
   "source": [
    "def jump(s,j):\n",
    "    if j==0:\n",
    "        print(s)\n",
    "        return\n",
    "    elif j<0:\n",
    "        return\n",
    "    \n",
    "    jump(s+ \"1\", j-1)\n",
    "    jump(s+\"2\", j-2)\n",
    "    jump(s+\"3\",j-3)\n",
    "    \n",
    "jump(\"\", 5)"
   ]
  },
  {
   "cell_type": "code",
   "execution_count": 1,
   "id": "a37c1711",
   "metadata": {},
   "outputs": [
    {
     "name": "stdout",
     "output_type": "stream",
     "text": [
      "11111\n",
      "1112\n",
      "1121\n",
      "113\n",
      "1211\n",
      "122\n",
      "131\n",
      "2111\n",
      "212\n",
      "221\n",
      "23\n",
      "311\n",
      "32\n"
     ]
    }
   ],
   "source": [
    "def jump(s,j,arr):\n",
    "    if j==0:\n",
    "        print(s)\n",
    "        return\n",
    "    elif j<0:\n",
    "        return\n",
    "    for i in range(0,len(arr)):\n",
    "        jump(s+ arr[i], j-(i+1),arr)\n",
    "        \n",
    "a=[\"1\",\"2\",\"3\"]   \n",
    "jump(\"\",5,a)"
   ]
  },
  {
   "cell_type": "code",
   "execution_count": null,
   "id": "c4e9347c",
   "metadata": {},
   "outputs": [],
   "source": [
    "def jump1(s,cr,cd,fr,fd):\n",
    "    if cr>fr and cd>fd:\n",
    "        return\n",
    "    elif cr==fr and cd==fd:\n",
    "        print(s)\n",
    "        return\n",
    "    jump1(s+\"r\",cr+1,cd,fr,fd)\n",
    "    jump1(s+\"d\",cr,cd+1,fr,fd)\n",
    "jump1(\"\",0,0,2,2)"
   ]
  },
  {
   "cell_type": "code",
   "execution_count": null,
   "id": "0c246ecd",
   "metadata": {},
   "outputs": [],
   "source": []
  }
 ],
 "metadata": {
  "kernelspec": {
   "display_name": "Python 3 (ipykernel)",
   "language": "python",
   "name": "python3"
  },
  "language_info": {
   "codemirror_mode": {
    "name": "ipython",
    "version": 3
   },
   "file_extension": ".py",
   "mimetype": "text/x-python",
   "name": "python",
   "nbconvert_exporter": "python",
   "pygments_lexer": "ipython3",
   "version": "3.10.9"
  }
 },
 "nbformat": 4,
 "nbformat_minor": 5
}
